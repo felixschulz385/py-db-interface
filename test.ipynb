{
 "cells": [
  {
   "cell_type": "code",
   "execution_count": 5,
   "metadata": {},
   "outputs": [
    {
     "data": {
      "text/plain": [
       "ModuleSpec(name='sqlite3.dbapi2', loader=<_frozen_importlib_external.SourceFileLoader object at 0x106dbd730>, origin='/usr/local/Cellar/python@3.9/3.9.13_1/Frameworks/Python.framework/Versions/3.9/lib/python3.9/sqlite3/dbapi2.py')"
      ]
     },
     "execution_count": 5,
     "metadata": {},
     "output_type": "execute_result"
    }
   ],
   "source": [
    "import sqlite3.dbapi2 as sql\n",
    "sql.__spec__\n"
   ]
  }
 ],
 "metadata": {
  "interpreter": {
   "hash": "3109019682454f2a0f463e1a63f5b4e73f9000cb0c80a0198bd43172716ae52c"
  },
  "kernelspec": {
   "display_name": "Python 3.10.4 ('main_env')",
   "language": "python",
   "name": "python3"
  },
  "language_info": {
   "codemirror_mode": {
    "name": "ipython",
    "version": 3
   },
   "file_extension": ".py",
   "mimetype": "text/x-python",
   "name": "python",
   "nbconvert_exporter": "python",
   "pygments_lexer": "ipython3",
   "version": "3.10.4"
  },
  "orig_nbformat": 4
 },
 "nbformat": 4,
 "nbformat_minor": 2
}
